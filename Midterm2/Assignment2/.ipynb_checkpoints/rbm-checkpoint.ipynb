{
 "cells": [
  {
   "cell_type": "markdown",
   "metadata": {
    "id": "OB09gIXW-0Xm"
   },
   "source": [
    "# Training a Restricted Boltzman Machine on MNIST dataset"
   ]
  },
  {
   "cell_type": "markdown",
   "metadata": {
    "id": "9tXDxbanJi3q"
   },
   "source": [
    "# Importing needed modules"
   ]
  },
  {
   "cell_type": "code",
   "execution_count": 1,
   "metadata": {
    "colab": {
     "base_uri": "https://localhost:8080/"
    },
    "id": "mTcLkggYwQGJ",
    "outputId": "989b5dfd-84a7-4a1e-cdf7-254048be7a3f"
   },
   "outputs": [
    {
     "name": "stdout",
     "output_type": "stream",
     "text": [
      "Defaulting to user installation because normal site-packages is not writeable\n",
      "Collecting idx2numpy\n",
      "  Downloading idx2numpy-1.2.3.tar.gz (6.8 kB)\n",
      "  Preparing metadata (setup.py) ... \u001b[?25ldone\n",
      "\u001b[?25hRequirement already satisfied: numpy in /home/diego/.local/lib/python3.10/site-packages (from idx2numpy) (1.24.2)\n",
      "Requirement already satisfied: six in /usr/lib/python3/dist-packages (from idx2numpy) (1.16.0)\n",
      "Building wheels for collected packages: idx2numpy\n",
      "  Building wheel for idx2numpy (setup.py) ... \u001b[?25ldone\n",
      "\u001b[?25h  Created wheel for idx2numpy: filename=idx2numpy-1.2.3-py3-none-any.whl size=7917 sha256=8eaf779dbf1adc616d020652029333e0aec18d4ca41fe2ae18eb8cfdad7677d2\n",
      "  Stored in directory: /home/diego/.cache/pip/wheels/e0/f4/e7/643fc5f932ec2ff92997f43f007660feb23f948aa8486f1107\n",
      "Successfully built idx2numpy\n",
      "Installing collected packages: idx2numpy\n",
      "Successfully installed idx2numpy-1.2.3\n"
     ]
    }
   ],
   "source": [
    "!pip install idx2numpy\n",
    "import numpy as np\n",
    "import gzip\n",
    "import matplotlib.pyplot as plt\n",
    "import idx2numpy\n",
    "from tqdm import tqdm"
   ]
  },
  {
   "cell_type": "markdown",
   "metadata": {
    "id": "RzT07mn2Jo7o"
   },
   "source": [
    "# Dowloading the dataset"
   ]
  },
  {
   "cell_type": "code",
   "execution_count": 2,
   "metadata": {
    "colab": {
     "base_uri": "https://localhost:8080/"
    },
    "id": "zL7d_i7xVHFT",
    "outputId": "f4d2e7b0-3dcc-40c5-a4aa-3e06b1cfd5ef"
   },
   "outputs": [
    {
     "name": "stdout",
     "output_type": "stream",
     "text": [
      "--2023-03-24 22:35:39--  http://yann.lecun.com/exdb/mnist/train-images-idx3-ubyte.gz\n",
      "Resolving yann.lecun.com (yann.lecun.com)... 188.114.96.7, 188.114.97.7, 2a06:98c1:3121::7, ...\n",
      "Connecting to yann.lecun.com (yann.lecun.com)|188.114.96.7|:80... connected.\n",
      "HTTP request sent, awaiting response... 200 OK\n",
      "Length: 9912422 (9,5M) [application/x-gzip]\n",
      "Saving to: ‘train-images-idx3-ubyte.gz’\n",
      "\n",
      "train-images-idx3-u 100%[===================>]   9,45M  2,24MB/s    in 4,2s    \n",
      "\n",
      "2023-03-24 22:35:43 (2,25 MB/s) - ‘train-images-idx3-ubyte.gz’ saved [9912422/9912422]\n",
      "\n",
      "--2023-03-24 22:35:43--  http://yann.lecun.com/exdb/mnist/train-labels-idx1-ubyte.gz\n",
      "Resolving yann.lecun.com (yann.lecun.com)... 188.114.97.7, 188.114.96.7, 2a06:98c1:3121::7, ...\n",
      "Connecting to yann.lecun.com (yann.lecun.com)|188.114.97.7|:80... connected.\n",
      "HTTP request sent, awaiting response... 200 OK\n",
      "Length: 28881 (28K) [application/x-gzip]\n",
      "Saving to: ‘train-labels-idx1-ubyte.gz’\n",
      "\n",
      "train-labels-idx1-u 100%[===================>]  28,20K  --.-KB/s    in 0,008s  \n",
      "\n",
      "2023-03-24 22:35:43 (3,26 MB/s) - ‘train-labels-idx1-ubyte.gz’ saved [28881/28881]\n",
      "\n",
      "--2023-03-24 22:35:44--  http://yann.lecun.com/exdb/mnist/t10k-images-idx3-ubyte.gz\n",
      "Resolving yann.lecun.com (yann.lecun.com)... 188.114.97.7, 188.114.96.7, 2a06:98c1:3120::7, ...\n",
      "Connecting to yann.lecun.com (yann.lecun.com)|188.114.97.7|:80... connected.\n",
      "HTTP request sent, awaiting response... 200 OK\n",
      "Length: 1648877 (1,6M) [application/x-gzip]\n",
      "Saving to: ‘t10k-images-idx3-ubyte.gz’\n",
      "\n",
      "t10k-images-idx3-ub 100%[===================>]   1,57M  2,60MB/s    in 0,6s    \n",
      "\n",
      "2023-03-24 22:35:44 (2,60 MB/s) - ‘t10k-images-idx3-ubyte.gz’ saved [1648877/1648877]\n",
      "\n",
      "--2023-03-24 22:35:44--  http://yann.lecun.com/exdb/mnist/t10k-labels-idx1-ubyte.gz\n",
      "Resolving yann.lecun.com (yann.lecun.com)... 188.114.96.7, 188.114.97.7, 2a06:98c1:3121::7, ...\n",
      "Connecting to yann.lecun.com (yann.lecun.com)|188.114.96.7|:80... connected.\n",
      "HTTP request sent, awaiting response... 200 OK\n",
      "Length: 4542 (4,4K) [application/x-gzip]\n",
      "Saving to: ‘t10k-labels-idx1-ubyte.gz’\n",
      "\n",
      "t10k-labels-idx1-ub 100%[===================>]   4,44K  --.-KB/s    in 0,001s  \n",
      "\n",
      "2023-03-24 22:35:44 (6,07 MB/s) - ‘t10k-labels-idx1-ubyte.gz’ saved [4542/4542]\n",
      "\n"
     ]
    }
   ],
   "source": [
    "!wget http://yann.lecun.com/exdb/mnist/train-images-idx3-ubyte.gz\n",
    "!wget http://yann.lecun.com/exdb/mnist/train-labels-idx1-ubyte.gz\n",
    "!wget http://yann.lecun.com/exdb/mnist/t10k-images-idx3-ubyte.gz\n",
    "!wget http://yann.lecun.com/exdb/mnist/t10k-labels-idx1-ubyte.gz\n",
    "\n",
    "sources = [\n",
    "    't10k-images-idx3-ubyte.gz',\n",
    "    't10k-labels-idx1-ubyte.gz',\n",
    "    'train-images-idx3-ubyte.gz',\n",
    "    'train-labels-idx1-ubyte.gz'\n",
    "]\n",
    "\n",
    "targets = [\n",
    "    't10k-images.idx3-ubyte',\n",
    "    't10k-labels.idx1-ubyte',\n",
    "    'train-images.idx3-ubyte',\n",
    "    'train-labels.idx1-ubyte'\n",
    "]\n",
    "\n",
    "for src, trg in zip(sources, targets):\n",
    "  with gzip.open(src, 'rb') as f:\n",
    "    file_content = f.read()\n",
    "    with open(trg, \"wb\") as f_out:\n",
    "      f_out.write(file_content)\n",
    "\n",
    "!rm train-images-idx3-ubyte.gz\n",
    "!rm train-labels-idx1-ubyte.gz\n",
    "!rm t10k-images-idx3-ubyte.gz\n",
    "!rm t10k-labels-idx1-ubyte.gz"
   ]
  },
  {
   "cell_type": "markdown",
   "metadata": {
    "id": "uLktOS3qMQCu"
   },
   "source": [
    "# Defining some utility functions"
   ]
  },
  {
   "cell_type": "code",
   "execution_count": 3,
   "metadata": {
    "id": "2LvTMAvQMQJm"
   },
   "outputs": [],
   "source": [
    "def sigmoid(x):\n",
    "  return 1/(1+np.e**(-x))\n",
    "\n",
    "def visualize_image(img, label=None):\n",
    "  plt.imshow(img, cmap='Greys')\n",
    "  if label != None:\n",
    "    plt.title(f\"Label {label}\")\n",
    "  plt.xticks([])\n",
    "  plt.yticks([])\n",
    "  plt.show()\n",
    "\n",
    "\n",
    "def visualize_image_grid(images, labels, size=5):\n",
    "\n",
    "  n = size*size\n",
    "  fig, ax = plt.subplots(size, size, figsize=(20, 20))\n",
    "\n",
    "  idx = 0\n",
    "\n",
    "  for i in range(size):\n",
    "    for j in range(size):\n",
    "      ax[i,j].imshow(images[idx], cmap='Greys')\n",
    "      ax[i,j].set_xticks([])\n",
    "      ax[i,j].set_yticks([])\n",
    "      ax[i,j].set_title(f\"Label: {labels[idx]}\")\n",
    "\n",
    "      idx += 1\n",
    "      \n",
    "\n",
    "\n",
    "def read_data(train_data_path='train-images.idx3-ubyte',\n",
    "              train_label_path='train-labels.idx1-ubyte',\n",
    "              test_data_path='t10k-images.idx3-ubyte',\n",
    "              test_label_path='t10k-labels.idx1-ubyte'\n",
    "              ):\n",
    "  train_data = idx2numpy.convert_from_file(train_data_path)\n",
    "  train_label = idx2numpy.convert_from_file(train_label_path)\n",
    "  test_data = idx2numpy.convert_from_file(test_data_path)\n",
    "  test_label = idx2numpy.convert_from_file(test_label_path)\n",
    "\n",
    "  return train_data, train_label, test_data, test_label\n",
    "\n",
    "\n",
    "def compute_mse(org, rec):\n",
    "  org = org.reshape(784)\n",
    "  rec = rec.reshape(784)\n",
    "  mse = ((org-rec)**2).sum()\n",
    "  return mse\n",
    "\n",
    "\n",
    "def plot_result(org, rec, label=None):\n",
    "\n",
    "  mse = compute_mse(org, rec)\n",
    "\n",
    "  fig, ax = plt.subplots(1, 2, figsize=(8, 4))\n",
    "\n",
    "  if label != None:\n",
    "    fig.suptitle(f\"Label: {label}, MSE: {round(mse, 5)}\", fontsize=14)\n",
    "\n",
    "  ax[0].imshow(org, cmap='Greys')\n",
    "  ax[1].imshow(rec, cmap='Greys')\n",
    "\n",
    "  ax[0].set_title(\"Original\")\n",
    "  ax[1].set_title(\"Reconstructed\")\n",
    "\n",
    "  ax[0].set_xticks([])\n",
    "  ax[0].set_yticks([])\n",
    "  ax[1].set_xticks([])\n",
    "  ax[1].set_yticks([])\n",
    "\n",
    "  plt.show()"
   ]
  },
  {
   "cell_type": "markdown",
   "metadata": {
    "id": "rLZuZqM6w1ny"
   },
   "source": [
    "# Loading the dataset"
   ]
  },
  {
   "cell_type": "code",
   "execution_count": 4,
   "metadata": {
    "colab": {
     "base_uri": "https://localhost:8080/"
    },
    "id": "cCd3Oc-7w1xu",
    "outputId": "37aa7750-55c2-44c7-d344-88193f1f8662"
   },
   "outputs": [
    {
     "name": "stdout",
     "output_type": "stream",
     "text": [
      "(60000, 28, 28) (60000,)\n",
      "(10000, 28, 28) (10000,)\n"
     ]
    }
   ],
   "source": [
    "train_data, train_label, test_data, test_label = read_data()\n",
    "\n",
    "train_data = train_data/255\n",
    "test_data = test_data/255\n",
    "\n",
    "print(train_data.shape, train_label.shape)\n",
    "print(test_data.shape, test_label.shape)"
   ]
  },
  {
   "cell_type": "markdown",
   "metadata": {
    "id": "rgyy6YnL2HEJ"
   },
   "source": [
    "# Visualize images"
   ]
  },
  {
   "cell_type": "code",
   "execution_count": 5,
   "metadata": {
    "colab": {
     "base_uri": "https://localhost:8080/",
     "height": 1000
    },
    "id": "3yG-se-X2HHp",
    "outputId": "a71f72c4-dbb8-447a-d4fa-347f46b97075"
   },
   "outputs": [
    {
     "data": {
      "image/png": "[encoded data removed]",
      "text/plain": [
       "<Figure size 1440x1440 with 25 Axes>"
      ]
     },
     "metadata": {},
     "output_type": "display_data"
    }
   ],
   "source": [
    "size = 5\n",
    "visualize_image_grid(train_data[:size*size], train_label[:size*size], 5)"
   ]
  },
  {
   "cell_type": "markdown",
   "metadata": {
    "id": "Dk_p6lpsJpOR"
   },
   "source": [
    "# Defining the class representing the RBM"
   ]
  },
  {
   "cell_type": "code",
   "execution_count": 6,
   "metadata": {
    "id": "np4USUlcJpTI"
   },
   "outputs": [],
   "source": [
    "class RBM:\n",
    "\n",
    "  def __init__(self, n_visible, n_hidden):\n",
    "    self.n_hidden = n_hidden\n",
    "    self.n_visible = n_visible\n",
    "    self.M = np.random.randn(n_visible, n_hidden)\n",
    "    self.b = np.random.randn(n_visible)\n",
    "    self.c = np.random.randn(n_hidden)\n",
    "\n",
    "\n",
    "  def visible_forward(self, h):\n",
    "    potential = np.matmul(h, self.M.T) + self.b\n",
    "    probs = sigmoid(potential)\n",
    "    mask = np.random.uniform(0, 1, probs.shape)\n",
    "    activations = (probs > mask).astype(np.uint8)\n",
    "    return activations, probs\n",
    "\n",
    "\n",
    "  def hidden_forward(self, v):\n",
    "    potential = np.matmul(v, self.M) + self.c\n",
    "    probs = sigmoid(potential)\n",
    "    mask = np.random.uniform(0, 1, probs.shape)\n",
    "    activations = (probs > mask).astype(np.uint8)\n",
    "    return activations, probs\n",
    "\n",
    "\n",
    "  def reconstruct(self, v):\n",
    "    h_a, h_p = self.hidden_forward(v)\n",
    "    v_a, v_p = self.visible_forward(h_a)\n",
    "    return v_a, v_p, h_a, h_p\n",
    "\n",
    "\n",
    "  def train(self, train_data, epochs=50, batch_size=32, lr=1):\n",
    "\n",
    "    n = train_data.shape[0]\n",
    "    iters = n // batch_size\n",
    "    iters = iters if (n % batch_size == 0) else iters + 1\n",
    "\n",
    "    train_data = train_data.reshape(n, -1)\n",
    "\n",
    "    batch_data = [train_data[i*batch_size:(i+1)*batch_size, :] for i in range(iters)]\n",
    "    \n",
    "    for epoch in range(epochs):\n",
    "      print(f\"Training epoch {epoch+1}/{epochs}\")\n",
    "\n",
    "      total_err = 0\n",
    "\n",
    "      with tqdm(total=iters) as pbar:\n",
    "        for batch in batch_data:\n",
    "          \n",
    "          N = batch.shape[0]\n",
    "\n",
    "          v_0 = batch\n",
    "          h_0_a, h_0_p = model.hidden_forward(v_0)\n",
    "          v_1_a, v_1_p = model.visible_forward(h_0_a)\n",
    "          h_1_a, h_1_p = model.hidden_forward(v_1_a)\n",
    "          \n",
    "          wake = np.einsum('ki,kj->kij', v_0, h_0_a)\n",
    "          dream = np.einsum('ki,kj->kij', v_1_a, h_1_p)\n",
    "\n",
    "          err = (((v_1_a-v_0)**2).sum())/N\n",
    "          total_err += err\n",
    "\n",
    "          delta_M = ((wake-dream).sum(axis=0))/N\n",
    "          delta_b = ((v_0-v_1_a).sum(axis=0))/N\n",
    "          delta_c = ((h_0_p-h_1_p).sum(axis=0))/N\n",
    "\n",
    "          self.M += delta_M*lr\n",
    "          self.b += delta_b*lr\n",
    "          self.c += delta_c*lr\n",
    "\n",
    "          pbar.update(1)\n",
    "        \n",
    "      print(f\"\\nMSE epoch {epoch+1}: {total_err/iters}\")"
   ]
  },
  {
   "cell_type": "code",
   "execution_count": 7,
   "metadata": {
    "colab": {
     "base_uri": "https://localhost:8080/",
     "height": 433
    },
    "id": "kw3AVCIy7pH8",
    "outputId": "6c27f4db-da47-44ab-9cfc-76efa5378fe1"
   },
   "outputs": [
    {
     "name": "stdout",
     "output_type": "stream",
     "text": [
      "Training epoch 1/10\n"
     ]
    },
    {
     "name": "stderr",
     "output_type": "stream",
     "text": [
      " 35%|██████████████▏                         | 663/1875 [00:26<00:47, 25.50it/s]\n"
     ]
    },
    {
     "ename": "KeyboardInterrupt",
     "evalue": "",
     "output_type": "error",
     "traceback": [
      "\u001b[0;31m---------------------------------------------------------------------------\u001b[0m",
      "\u001b[0;31mKeyboardInterrupt\u001b[0m                         Traceback (most recent call last)",
      "\u001b[0;32m/tmp/ipykernel_21643/816212533.py\u001b[0m in \u001b[0;36m<module>\u001b[0;34m\u001b[0m\n\u001b[1;32m      1\u001b[0m \u001b[0mmodel\u001b[0m \u001b[0;34m=\u001b[0m \u001b[0mRBM\u001b[0m\u001b[0;34m(\u001b[0m\u001b[0;36m784\u001b[0m\u001b[0;34m,\u001b[0m \u001b[0;36m64\u001b[0m\u001b[0;34m)\u001b[0m\u001b[0;34m\u001b[0m\u001b[0;34m\u001b[0m\u001b[0m\n\u001b[0;32m----> 2\u001b[0;31m \u001b[0mmodel\u001b[0m\u001b[0;34m.\u001b[0m\u001b[0mtrain\u001b[0m\u001b[0;34m(\u001b[0m\u001b[0mtrain_data\u001b[0m\u001b[0;34m,\u001b[0m \u001b[0mepochs\u001b[0m\u001b[0;34m=\u001b[0m\u001b[0;36m10\u001b[0m\u001b[0;34m,\u001b[0m \u001b[0mbatch_size\u001b[0m\u001b[0;34m=\u001b[0m\u001b[0;36m32\u001b[0m\u001b[0;34m,\u001b[0m \u001b[0mlr\u001b[0m\u001b[0;34m=\u001b[0m\u001b[0;36m0.75\u001b[0m\u001b[0;34m)\u001b[0m\u001b[0;34m\u001b[0m\u001b[0;34m\u001b[0m\u001b[0m\n\u001b[0m",
      "\u001b[0;32m/tmp/ipykernel_21643/527148288.py\u001b[0m in \u001b[0;36mtrain\u001b[0;34m(self, train_data, epochs, batch_size, lr)\u001b[0m\n\u001b[1;32m     52\u001b[0m \u001b[0;34m\u001b[0m\u001b[0m\n\u001b[1;32m     53\u001b[0m           \u001b[0mv_0\u001b[0m \u001b[0;34m=\u001b[0m \u001b[0mbatch\u001b[0m\u001b[0;34m\u001b[0m\u001b[0;34m\u001b[0m\u001b[0m\n\u001b[0;32m---> 54\u001b[0;31m           \u001b[0mh_0_a\u001b[0m\u001b[0;34m,\u001b[0m \u001b[0mh_0_p\u001b[0m \u001b[0;34m=\u001b[0m \u001b[0mmodel\u001b[0m\u001b[0;34m.\u001b[0m\u001b[0mhidden_forward\u001b[0m\u001b[0;34m(\u001b[0m\u001b[0mv_0\u001b[0m\u001b[0;34m)\u001b[0m\u001b[0;34m\u001b[0m\u001b[0;34m\u001b[0m\u001b[0m\n\u001b[0m\u001b[1;32m     55\u001b[0m           \u001b[0mv_1_a\u001b[0m\u001b[0;34m,\u001b[0m \u001b[0mv_1_p\u001b[0m \u001b[0;34m=\u001b[0m \u001b[0mmodel\u001b[0m\u001b[0;34m.\u001b[0m\u001b[0mvisible_forward\u001b[0m\u001b[0;34m(\u001b[0m\u001b[0mh_0_a\u001b[0m\u001b[0;34m)\u001b[0m\u001b[0;34m\u001b[0m\u001b[0;34m\u001b[0m\u001b[0m\n\u001b[1;32m     56\u001b[0m           \u001b[0mh_1_a\u001b[0m\u001b[0;34m,\u001b[0m \u001b[0mh_1_p\u001b[0m \u001b[0;34m=\u001b[0m \u001b[0mmodel\u001b[0m\u001b[0;34m.\u001b[0m\u001b[0mhidden_forward\u001b[0m\u001b[0;34m(\u001b[0m\u001b[0mv_1_a\u001b[0m\u001b[0;34m)\u001b[0m\u001b[0;34m\u001b[0m\u001b[0;34m\u001b[0m\u001b[0m\n",
      "\u001b[0;32m/tmp/ipykernel_21643/527148288.py\u001b[0m in \u001b[0;36mhidden_forward\u001b[0;34m(self, v)\u001b[0m\n\u001b[1;32m     18\u001b[0m \u001b[0;34m\u001b[0m\u001b[0m\n\u001b[1;32m     19\u001b[0m   \u001b[0;32mdef\u001b[0m \u001b[0mhidden_forward\u001b[0m\u001b[0;34m(\u001b[0m\u001b[0mself\u001b[0m\u001b[0;34m,\u001b[0m \u001b[0mv\u001b[0m\u001b[0;34m)\u001b[0m\u001b[0;34m:\u001b[0m\u001b[0;34m\u001b[0m\u001b[0;34m\u001b[0m\u001b[0m\n\u001b[0;32m---> 20\u001b[0;31m     \u001b[0mpotential\u001b[0m \u001b[0;34m=\u001b[0m \u001b[0mnp\u001b[0m\u001b[0;34m.\u001b[0m\u001b[0mmatmul\u001b[0m\u001b[0;34m(\u001b[0m\u001b[0mv\u001b[0m\u001b[0;34m,\u001b[0m \u001b[0mself\u001b[0m\u001b[0;34m.\u001b[0m\u001b[0mM\u001b[0m\u001b[0;34m)\u001b[0m \u001b[0;34m+\u001b[0m \u001b[0mself\u001b[0m\u001b[0;34m.\u001b[0m\u001b[0mc\u001b[0m\u001b[0;34m\u001b[0m\u001b[0;34m\u001b[0m\u001b[0m\n\u001b[0m\u001b[1;32m     21\u001b[0m     \u001b[0mprobs\u001b[0m \u001b[0;34m=\u001b[0m \u001b[0msigmoid\u001b[0m\u001b[0;34m(\u001b[0m\u001b[0mpotential\u001b[0m\u001b[0;34m)\u001b[0m\u001b[0;34m\u001b[0m\u001b[0;34m\u001b[0m\u001b[0m\n\u001b[1;32m     22\u001b[0m     \u001b[0mmask\u001b[0m \u001b[0;34m=\u001b[0m \u001b[0mnp\u001b[0m\u001b[0;34m.\u001b[0m\u001b[0mrandom\u001b[0m\u001b[0;34m.\u001b[0m\u001b[0muniform\u001b[0m\u001b[0;34m(\u001b[0m\u001b[0;36m0\u001b[0m\u001b[0;34m,\u001b[0m \u001b[0;36m1\u001b[0m\u001b[0;34m,\u001b[0m \u001b[0mprobs\u001b[0m\u001b[0;34m.\u001b[0m\u001b[0mshape\u001b[0m\u001b[0;34m)\u001b[0m\u001b[0;34m\u001b[0m\u001b[0;34m\u001b[0m\u001b[0m\n",
      "\u001b[0;31mKeyboardInterrupt\u001b[0m: "
     ]
    }
   ],
   "source": [
    "model = RBM(784, 64)\n",
    "model.train(train_data, epochs=10, batch_size=32, lr=0.75)"
   ]
  },
  {
   "cell_type": "code",
   "execution_count": null,
   "metadata": {
    "colab": {
     "base_uri": "https://localhost:8080/"
    },
    "id": "xsXQqXXkds3W",
    "outputId": "efe20f5a-60b3-476f-da3d-84a22e6e4c7b"
   },
   "outputs": [],
   "source": [
    "train_size = train_data.shape[0]\n",
    "test_size = test_data.shape[0]\n",
    "\n",
    "train_input = train_data.reshape(train_size, 784)\n",
    "test_input = test_data.reshape(test_size, 784)\n",
    "\n",
    "train_pred, _, _, _ = model.reconstruct(train_input)\n",
    "test_pred, _, _, _ = model.reconstruct(test_input)\n",
    "\n",
    "train_mse = (((train_pred-train_input)**2).sum())/train_size\n",
    "test_mse = (((test_pred-test_input)**2).sum())/test_size\n",
    "\n",
    "print(f\"Train MSE: {train_mse}\")\n",
    "print(f\"Test MSE: {test_mse}\")"
   ]
  },
  {
   "cell_type": "code",
   "execution_count": null,
   "metadata": {
    "colab": {
     "base_uri": "https://localhost:8080/",
     "height": 1000
    },
    "id": "q7gPmBW9hWRD",
    "outputId": "65c17252-3220-4a8d-9167-de69147b270f"
   },
   "outputs": [],
   "source": [
    "for idx in range(10):\n",
    "  v_a, v_p, h_a, h_p = model.reconstruct(test_data[idx].reshape(1, -1))\n",
    "  plot_result(test_data[idx], v_p.reshape(28, 28), test_label[idx])\n",
    "  print(\"\\n\\n\\n\\n\")"
   ]
  }
 ],
 "metadata": {
  "colab": {
   "provenance": []
  },
  "kernelspec": {
   "display_name": "Python 3 (ipykernel)",
   "language": "python",
   "name": "python3"
  },
  "language_info": {
   "codemirror_mode": {
    "name": "ipython",
    "version": 3
   },
   "file_extension": ".py",
   "mimetype": "text/x-python",
   "name": "python",
   "nbconvert_exporter": "python",
   "pygments_lexer": "ipython3",
   "version": "3.10.6"
  }
 },
 "nbformat": 4,
 "nbformat_minor": 1
}
